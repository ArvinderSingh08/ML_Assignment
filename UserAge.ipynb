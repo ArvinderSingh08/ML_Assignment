{
 "cells": [
  {
   "cell_type": "code",
   "execution_count": 1,
   "metadata": {
    "cocalc": {
     "outputs": {
      "0": {
       "name": "input",
       "opts": {
        "password": false,
        "prompt": "Enter your name: "
       },
       "output_type": "stream",
       "value": "Arvinder Singh"
      },
      "1": {
       "name": "input",
       "opts": {
        "password": false,
        "prompt": "Enter your age: "
       },
       "output_type": "stream",
       "value": "22"
      }
     }
    },
    "collapsed": false
   },
   "outputs": [
    {
     "name": "stdout",
     "output_type": "stream",
     "text": "Enter your name:  Arvinder Singh"
    },
    {
     "name": "stdout",
     "output_type": "stream",
     "text": "Enter your age:  22"
    },
    {
     "name": "stdout",
     "output_type": "stream",
     "text": [
      "Arvinder Singh will become 100 years old in the year 2099.\n"
     ]
    }
   ],
   "source": [
    "name = input(\"Enter your name: \")\n",
    "current_age = int(input(\"Enter your age: \"))\n",
    "hundredth_year = 2021 + (100 - current_age)\n",
    "print(f'{name} will become 100 years old in the year {hundredth_year}.')"
   ]
  },
  {
   "cell_type": "code",
   "execution_count": 2,
   "metadata": {
    "cocalc": {
     "outputs": {
      "0": {
       "name": "input",
       "opts": {
        "password": false,
        "prompt": "How many times do you want the output to be displayed? "
       },
       "output_type": "stream",
       "value": "4"
      },
      "1": {
       "name": "input",
       "opts": {
        "password": false,
        "prompt": "Enter your name: "
       },
       "output_type": "stream",
       "value": "Arvinder Singh"
      },
      "2": {
       "name": "input",
       "opts": {
        "password": false,
        "prompt": "Enter your age: "
       },
       "output_type": "stream",
       "value": "22"
      }
     }
    },
    "collapsed": false
   },
   "outputs": [
    {
     "name": "stdout",
     "output_type": "stream",
     "text": "How many times do you want the output to be displayed?  4"
    },
    {
     "name": "stdout",
     "output_type": "stream",
     "text": "Enter your name:  Arvinder Singh"
    },
    {
     "name": "stdout",
     "output_type": "stream",
     "text": "Enter your age:  22"
    },
    {
     "name": "stdout",
     "output_type": "stream",
     "text": [
      "Hi Arvinder Singh, you will turn 100 years old in the year 2043.\n",
      "Hi Arvinder Singh, you will turn 100 years old in the year 2043.\n",
      "Hi Arvinder Singh, you will turn 100 years old in the year 2043.\n",
      "Hi Arvinder Singh, you will turn 100 years old in the year 2043.\n"
     ]
    }
   ],
   "source": [
    "n = int(input(\"How many times do you want the output to be displayed? \"))\n",
    "\n",
    "name = input(\"Enter your name: \")\n",
    "age = int( input(\"Enter your age: \") )\n",
    "bday100 =  2021 + age\n",
    "\n",
    "for i in range(n):\n",
    "    print(f\"Hi {name}, you will turn 100 years old in the year {bday100}.\")"
   ]
  },
  {
   "cell_type": "code",
   "execution_count": 0,
   "metadata": {
    "collapsed": false
   },
   "outputs": [
   ],
   "source": [
   ]
  }
 ],
 "metadata": {
  "kernelspec": {
   "display_name": "Python 3 (system-wide)",
   "language": "python",
   "metadata": {
    "cocalc": {
     "description": "Python 3 programming language",
     "priority": 100,
     "url": "https://www.python.org/"
    }
   },
   "name": "python3",
   "resource_dir": "/ext/jupyter/kernels/python3"
  }
 },
 "nbformat": 4,
 "nbformat_minor": 4
}